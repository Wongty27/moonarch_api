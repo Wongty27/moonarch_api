{
 "cells": [
  {
   "cell_type": "code",
   "execution_count": 1,
   "metadata": {},
   "outputs": [],
   "source": [
    "import pandas as pd\n",
    "from pathlib import Path"
   ]
  },
  {
   "cell_type": "code",
   "execution_count": null,
   "metadata": {},
   "outputs": [],
   "source": [
    "def currency_converter(file: str, exc_rate: float):\n",
    "    filename = Path(file).stem\n",
    "    df = pd.read_csv(file)\n",
    "    df['price'] = df['price'] * exc_rate\n",
    "    df.to_csv(f\"{filename}.csv\", index=False)\n",
    "\n",
    "def extract_data(file: str):\n",
    "    df = pd.read_csv(file)\n",
    "    filename = Path(file).stem\n",
    "    new_df = pd.DataFrame(columns=['brand', 'model', 'price'])\n",
    "    new_df[['brand', 'model']] = df['name'].str.split(' ', n=1, expand=True)\n",
    "    new_df['price'] = df['price']\n",
    "    new_df.to_csv(f\"{filename}.csv\", index=False)"
   ]
  }
 ],
 "metadata": {
  "kernelspec": {
   "display_name": "finance",
   "language": "python",
   "name": "python3"
  },
  "language_info": {
   "codemirror_mode": {
    "name": "ipython",
    "version": 3
   },
   "file_extension": ".py",
   "mimetype": "text/x-python",
   "name": "python",
   "nbconvert_exporter": "python",
   "pygments_lexer": "ipython3",
   "version": "3.11.9"
  }
 },
 "nbformat": 4,
 "nbformat_minor": 2
}
